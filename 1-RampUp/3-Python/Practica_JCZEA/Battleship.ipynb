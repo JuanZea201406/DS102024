{
 "cells": [
  {
   "cell_type": "code",
   "execution_count": 7,
   "metadata": {},
   "outputs": [],
   "source": [
    "import random"
   ]
  },
  {
   "cell_type": "code",
   "execution_count": 8,
   "metadata": {},
   "outputs": [],
   "source": [
    "class Barco:\n",
    "    def __init__(self, nombre, tamano):\n",
    "        self.nombre = nombre    # Variable para definir el atributo nombre del barco. \n",
    "        self.tamano = tamano    # Variable para definir el atributo tamaño / longitud del barco.\n",
    "        self.golpes = 0         # Variable para definir el atributo de los golpes que recibirá el barco contando desde cero.\n",
    "\n",
    "    def recibir_golpe(self): # Metodo que incrementa el contador de golpes en el barco.\n",
    "        self.golpes += 1\n",
    "\n",
    "    def esta_hundido(self): # Metodo que cálcula si el barco ha sido hundido.\n",
    "        return self.golpes >= self.tamano"
   ]
  },
  {
   "cell_type": "code",
   "execution_count": 9,
   "metadata": {},
   "outputs": [],
   "source": [
    "class Tablero:\n",
    "    def __init__(self, filas=10, columnas=10):\n",
    "        self.filas = filas                                    # Variables para definir el tamaño del tablero.\n",
    "        self.columnas = columnas                              # Variables para definir el tamaño del tablero.\n",
    "        self.tablero = [['O'] * columnas for _ in range(filas)] # Tablero inicializado con valores en cero.\n",
    "\n",
    "    def mostrar_tablero(self):\n",
    "        for fila in self.tablero:\n",
    "            print(\" \".join(str(celda) for celda in fila))\n",
    "    \n",
    "    def colocar_barco(self, fila, columna, valor):                  # Metodo para colocar un barco fijo en el tablero.\n",
    "        if 0 <= fila < self.filas and 0 <= columna < self.columnas: # Verificamos que la posición sea válida y no este fuera del tablero.\n",
    "            self.tablero[fila][columna] = valor\n",
    "\n"
   ]
  },
  {
   "cell_type": "code",
   "execution_count": 10,
   "metadata": {},
   "outputs": [],
   "source": [
    "class Jugador:\n",
    "    def __init__(self, nombre):\n",
    "        self.nombre = nombre\n",
    "        self.barcos = []\n",
    "        self.barcos_hundidos = 0    # Variable para contar los barcos hundidos.\n",
    "                \n",
    "        self.barcos.append(Barco(\"portaaviones\", 5)) # Creamos y agregamos los barcos al jugador.\n",
    "        self.barcos.append(Barco(\"acorazado\", 4))\n",
    "        self.barcos.append(Barco(\"crucero\", 3))\n",
    "        self.barcos.append(Barco(\"submarino\", 3))\n",
    "        self.barcos.append(Barco(\"destructor\", 2))\n",
    "\n",
    "    #def disparar(self, fila, columna):                        # Metodo para disparar en el tablero.\n",
    "    #   if 0 <= fila < self.tablero.filas and 0 <= columna < self.tablero.columnas: # Verificamos que la posición sea válida y no este fuera del tablero.\n"
   ]
  },
  {
   "cell_type": "code",
   "execution_count": 11,
   "metadata": {},
   "outputs": [],
   "source": [
    "class Juego:\n",
    "    def __init__(self, jugador1, jugador2):\n",
    "        self.jugador1 = jugador1\n",
    "        self.jugador2 = jugador2\n",
    "        self.turno = random.choice([jugador1, jugador2])  # Se elige al jugador que inicia la partida.\n"
   ]
  },
  {
   "cell_type": "code",
   "execution_count": 12,
   "metadata": {},
   "outputs": [
    {
     "name": "stdout",
     "output_type": "stream",
     "text": [
      "\n",
      "Tablero de juego Battleship: \n",
      "\n",
      "O O O O O O O O O O\n",
      "O O O O O O O O O O\n",
      "O O O B B O O O O O\n",
      "O O O O O O O O O O\n",
      "O O O O O O O O O O\n",
      "O O O O O O O O O O\n",
      "O O O O O O O O O O\n",
      "O O O O O O O O O O\n",
      "O O O O O O O O O O\n",
      "O O O O O O O O O O\n"
     ]
    }
   ],
   "source": [
    "tablero = Tablero()     # cramos una instancia del tablero\n",
    "\n",
    "tablero.colocar_barco(2, 3, 'B')\n",
    "tablero.colocar_barco(2, 4, 'B') \n",
    "\n",
    "print(\"\\nTablero de juego Battleship: \\n\")\n",
    "tablero.mostrar_tablero()"
   ]
  },
  {
   "cell_type": "code",
   "execution_count": null,
   "metadata": {},
   "outputs": [],
   "source": []
  }
 ],
 "metadata": {
  "kernelspec": {
   "display_name": "bootcamp-ds-mMnySRwT-py3.12",
   "language": "python",
   "name": "python3"
  },
  "language_info": {
   "codemirror_mode": {
    "name": "ipython",
    "version": 3
   },
   "file_extension": ".py",
   "mimetype": "text/x-python",
   "name": "python",
   "nbconvert_exporter": "python",
   "pygments_lexer": "ipython3",
   "version": "3.12.4"
  }
 },
 "nbformat": 4,
 "nbformat_minor": 2
}
