{
 "cells": [
  {
   "cell_type": "code",
   "execution_count": 1,
   "metadata": {},
   "outputs": [
    {
     "name": "stdout",
     "output_type": "stream",
     "text": [
      "juan\n"
     ]
    }
   ],
   "source": [
    "print('juan')"
   ]
  },
  {
   "cell_type": "code",
   "execution_count": 14,
   "metadata": {},
   "outputs": [
    {
     "name": "stdout",
     "output_type": "stream",
     "text": [
      "hola juan\n",
      "hola juan\n",
      "hola juan\n"
     ]
    }
   ],
   "source": [
    "a = 'juan'\n",
    "\n",
    "print('hola %s' %(a))\n",
    "print(f'hola {a}')\n",
    "print('hola',a)"
   ]
  },
  {
   "cell_type": "code",
   "execution_count": 18,
   "metadata": {},
   "outputs": [
    {
     "name": "stdout",
     "output_type": "stream",
     "text": [
      "hola juan\n"
     ]
    }
   ],
   "source": [
    "lista = [['hola'],'juan']\n",
    "\n",
    "print(lista[0][0],lista[1])"
   ]
  },
  {
   "cell_type": "code",
   "execution_count": 38,
   "metadata": {},
   "outputs": [
    {
     "name": "stdout",
     "output_type": "stream",
     "text": [
      "El valor ingresado no puede ser cero\n"
     ]
    }
   ],
   "source": [
    "numero = float(input('Ingresa un valor: '))\n",
    "\n",
    "resto = numero % 2\n",
    "if numero != 0:\n",
    "    if resto == 0:\n",
    "        print('El número es par')\n",
    "    else:\n",
    "        print('el número es impar')\n",
    "else:\n",
    "    print('El valor ingresado no puede ser cero')"
   ]
  },
  {
   "cell_type": "code",
   "execution_count": 36,
   "metadata": {},
   "outputs": [
    {
     "name": "stdout",
     "output_type": "stream",
     "text": [
      "<class 'bool'>\n"
     ]
    }
   ],
   "source": [
    "print(type(False))"
   ]
  },
  {
   "cell_type": "code",
   "execution_count": 46,
   "metadata": {},
   "outputs": [
    {
     "name": "stdout",
     "output_type": "stream",
     "text": [
      "<class 'float'>\n",
      "10\n",
      "<class 'int'>\n"
     ]
    }
   ],
   "source": [
    "#COMBERTIR UN NÚMER DE UN TIPO A OTRO\n",
    "num_real = 10.5\n",
    "print(type(num_real))\n",
    "\n",
    "num_entero = int(num_real)\n",
    "print(num_entero)\n",
    "print(type(num_entero))"
   ]
  },
  {
   "cell_type": "code",
   "execution_count": 53,
   "metadata": {},
   "outputs": [
    {
     "name": "stdout",
     "output_type": "stream",
     "text": [
      "10.5 <class 'str'>\n",
      "10.5 <class 'float'>\n"
     ]
    }
   ],
   "source": [
    "real_texto = '10,5'\n",
    "# real_float = float(real_texto) --> esto sería incorrecto\n",
    "\n",
    "# Esto me va dar un error ya que el valor 10,5 tiene una coma y debe ser un punto\n",
    "# lo que hacemos es aplicar metodo para reemplazar la coma con un \"replace\"\n",
    "\n",
    "real_texto = real_texto.replace(',','.')\n",
    "print(real_texto, type(real_texto))\n",
    "\n",
    "real_float = float(real_texto)\n",
    "print(real_float, type(real_float))"
   ]
  },
  {
   "cell_type": "code",
   "execution_count": 55,
   "metadata": {},
   "outputs": [
    {
     "data": {
      "text/plain": [
       "str"
      ]
     },
     "execution_count": 55,
     "metadata": {},
     "output_type": "execute_result"
    }
   ],
   "source": [
    "primer_input = input('Ingresa un valor: ')\n",
    "type(primer_input)"
   ]
  },
  {
   "cell_type": "code",
   "execution_count": 68,
   "metadata": {},
   "outputs": [
    {
     "name": "stdout",
     "output_type": "stream",
     "text": [
      "5.0 <class 'float'>\n"
     ]
    }
   ],
   "source": [
    "import math\n",
    "\n",
    "raiz = math.sqrt(25)\n",
    "print(raiz, type(raiz))"
   ]
  },
  {
   "cell_type": "code",
   "execution_count": 71,
   "metadata": {},
   "outputs": [
    {
     "name": "stdout",
     "output_type": "stream",
     "text": [
      "18\n"
     ]
    }
   ],
   "source": [
    "print(len('esto es una cadena'))"
   ]
  },
  {
   "cell_type": "code",
   "execution_count": 73,
   "metadata": {},
   "outputs": [
    {
     "name": "stdout",
     "output_type": "stream",
     "text": [
      "8\n"
     ]
    }
   ],
   "source": [
    "print(max(1,2,3,8,6))"
   ]
  },
  {
   "cell_type": "code",
   "execution_count": 79,
   "metadata": {},
   "outputs": [
    {
     "name": "stdout",
     "output_type": "stream",
     "text": [
      "hola juan carlos**test**16\n"
     ]
    }
   ],
   "source": [
    "cadena = 'hola juan carlos'\n",
    "print(cadena, len(cadena), sep = \"**test**\")\n"
   ]
  },
  {
   "cell_type": "code",
   "execution_count": 89,
   "metadata": {},
   "outputs": [
    {
     "name": "stdout",
     "output_type": "stream",
     "text": [
      "hola juan carlos\n",
      "eres el mejor\n"
     ]
    }
   ],
   "source": [
    "cadena = 'hola juan carlos'\n",
    "print(cadena)\n",
    "print('eres el mejor')"
   ]
  },
  {
   "cell_type": "code",
   "execution_count": 88,
   "metadata": {},
   "outputs": [
    {
     "name": "stdout",
     "output_type": "stream",
     "text": [
      "hola juan carlos eres el mejor\n"
     ]
    }
   ],
   "source": [
    "print(cadena, end = \" \")\n",
    "print('eres el mejor')"
   ]
  },
  {
   "cell_type": "code",
   "execution_count": 90,
   "metadata": {},
   "outputs": [
    {
     "name": "stdout",
     "output_type": "stream",
     "text": [
      "HOLA\n"
     ]
    }
   ],
   "source": [
    "conver_mayuscula = 'hola'\n",
    "print(conver_mayuscula.upper())"
   ]
  },
  {
   "cell_type": "code",
   "execution_count": 91,
   "metadata": {},
   "outputs": [],
   "source": [
    "conver_mayuscula = 'hola'.upper()"
   ]
  },
  {
   "cell_type": "code",
   "execution_count": 94,
   "metadata": {},
   "outputs": [
    {
     "name": "stdout",
     "output_type": "stream",
     "text": [
      "['hola', 'como', 'te', 'va', 'juan']\n"
     ]
    }
   ],
   "source": [
    "print('hola como te va juan'.split())"
   ]
  },
  {
   "cell_type": "code",
   "execution_count": 97,
   "metadata": {},
   "outputs": [
    {
     "name": "stdout",
     "output_type": "stream",
     "text": [
      "5\n"
     ]
    }
   ],
   "source": [
    "texto = 'hola juan carlos como te va'\n",
    "print(texto.index('j'))"
   ]
  },
  {
   "cell_type": "code",
   "execution_count": 98,
   "metadata": {},
   "outputs": [
    {
     "name": "stdout",
     "output_type": "stream",
     "text": [
      "[1, 2, 3, 4, 5] <class 'list'>\n"
     ]
    }
   ],
   "source": [
    "numeros = [1,2,3,4,5]\n",
    "print(numeros, type(numeros))"
   ]
  },
  {
   "cell_type": "code",
   "execution_count": 99,
   "metadata": {},
   "outputs": [
    {
     "name": "stdout",
     "output_type": "stream",
     "text": [
      "['hola', 'como', 'te', 'va'] <class 'list'>\n"
     ]
    }
   ],
   "source": [
    "texto = ['hola', 'como', 'te', 'va']\n",
    "print(texto, type(texto))"
   ]
  },
  {
   "cell_type": "code",
   "execution_count": 103,
   "metadata": {},
   "outputs": [
    {
     "name": "stdout",
     "output_type": "stream",
     "text": [
      "['a', 'b', 'c', 'd']\n"
     ]
    }
   ],
   "source": [
    "texto = ['a','d','b','c']\n",
    "texto.sort()\n",
    "print(texto)"
   ]
  },
  {
   "cell_type": "code",
   "execution_count": 104,
   "metadata": {},
   "outputs": [
    {
     "name": "stdout",
     "output_type": "stream",
     "text": [
      "Aprobado\n",
      "Finaliza ejecución\n"
     ]
    }
   ],
   "source": [
    "nota = 7\n",
    "\n",
    "if nota >= 5:\n",
    "    print('Aprobado')\n",
    "else:\n",
    "    print('Desaprobado')\n",
    "print('Finaliza ejecución')"
   ]
  },
  {
   "cell_type": "code",
   "execution_count": 109,
   "metadata": {},
   "outputs": [
    {
     "name": "stdout",
     "output_type": "stream",
     "text": [
      "Interación for\n",
      "El número 4 es un entero\n",
      "Interación for\n",
      "El número 6 es un entero\n",
      "Interación for\n",
      "El número 4.0 es un real\n",
      "Interación for\n",
      "El número 3.0 es un real\n",
      "Interación for\n",
      "El valor juan es otro tipo de dato\n",
      "Finaliza ejecución\n"
     ]
    }
   ],
   "source": [
    "numeros = [4, 6, 4.0, 3.0, 'juan']\n",
    "\n",
    "for num in numeros:\n",
    "    print('Interación for')\n",
    "    if type(num) == int:\n",
    "        print(f'El número {num} es un entero')\n",
    "    elif type(num) == float:\n",
    "        print(f'El número {num} es un real')\n",
    "    else:\n",
    "        print(f'El valor {num} es otro tipo de dato')\n",
    "print('Finaliza ejecución')"
   ]
  },
  {
   "cell_type": "code",
   "execution_count": 112,
   "metadata": {},
   "outputs": [
    {
     "name": "stdout",
     "output_type": "stream",
     "text": [
      "Aprobado\n"
     ]
    }
   ],
   "source": [
    "mi_nota = int(input('Ingresar nota de alumno: '))\n",
    "\n",
    "if mi_nota > 11:\n",
    "    print('Aprobado')\n",
    "elif mi_nota == 11:\n",
    "    print('Recuperación')\n",
    "else:\n",
    "    print('Desaprobado') "
   ]
  },
  {
   "cell_type": "code",
   "execution_count": 117,
   "metadata": {},
   "outputs": [
    {
     "name": "stdout",
     "output_type": "stream",
     "text": [
      "La tarea para el día 10 es: Día no valido\n"
     ]
    }
   ],
   "source": [
    "day = str(input('Ingrese día de la semana: '))\n",
    "\n",
    "#Usando match case\n",
    "\n",
    "match day.lower():\n",
    "\n",
    "    case \"lunes\":\n",
    "        task = 'Hacer la compra'\n",
    "    case \"martes\":\n",
    "        task = 'Ir al gimnasio'\n",
    "    case \"miercoles\":\n",
    "        task = 'Estudiar Python'\n",
    "    case \"jueves\":\n",
    "        task = 'Llamar a mamá'\n",
    "    case \"viernes\":\n",
    "        task = 'Ver una pelicula'\n",
    "    case \"sabado\":\n",
    "        task = 'Salir con amigos'\n",
    "    case \"domingo\":\n",
    "        task = 'Relajarse en casa'\n",
    "    case _:\n",
    "        task = 'Día no valido'\n",
    "\n",
    "print(f'La tarea para el día {day} es: {task}')\n"
   ]
  },
  {
   "cell_type": "code",
   "execution_count": 132,
   "metadata": {},
   "outputs": [
    {
     "name": "stdout",
     "output_type": "stream",
     "text": [
      "3 6 9 10 "
     ]
    }
   ],
   "source": [
    "notas = [3, 6, 9, 10]\n",
    "for nota in notas:\n",
    "    print(nota, end=\" \")"
   ]
  },
  {
   "cell_type": "code",
   "execution_count": 129,
   "metadata": {},
   "outputs": [
    {
     "name": "stdout",
     "output_type": "stream",
     "text": [
      "El valor nota es: 3\n",
      "Desaprobado\n",
      "El valor nota es: 6\n",
      "Aprobado\n",
      "El valor nota es: 9\n",
      "Aprobado\n",
      "El valor nota es: 10\n",
      "Aprobado\n"
     ]
    }
   ],
   "source": [
    "for nota in notas:\n",
    "    print(f'El valor nota es: {nota}')\n",
    "    if nota >= 5:\n",
    "        print('Aprobado')\n",
    "    else:\n",
    "        print('Desaprobado')"
   ]
  },
  {
   "cell_type": "code",
   "execution_count": 137,
   "metadata": {},
   "outputs": [
    {
     "name": "stdout",
     "output_type": "stream",
     "text": [
      "j u a n   c a r l o s   z e a "
     ]
    }
   ],
   "source": [
    "texto = str(input('Ingresar texto: '))\n",
    "\n",
    "for letra in texto.lower():\n",
    "    print(letra, end=\" \")"
   ]
  },
  {
   "cell_type": "code",
   "execution_count": 141,
   "metadata": {},
   "outputs": [
    {
     "name": "stdout",
     "output_type": "stream",
     "text": [
      "Lunes\n",
      "L\n",
      "u\n",
      "n\n",
      "e\n",
      "s\n",
      "----------------------------------------------------------------------------------------------------\n",
      "Martes\n",
      "M\n",
      "a\n",
      "r\n",
      "t\n",
      "e\n",
      "s\n",
      "----------------------------------------------------------------------------------------------------\n",
      "Miércoles\n",
      "M\n",
      "i\n",
      "é\n",
      "r\n",
      "c\n",
      "o\n",
      "l\n",
      "e\n",
      "s\n",
      "----------------------------------------------------------------------------------------------------\n",
      "Jueves\n",
      "J\n",
      "u\n",
      "e\n",
      "v\n",
      "e\n",
      "s\n",
      "----------------------------------------------------------------------------------------------------\n",
      "Viernes\n",
      "V\n",
      "i\n",
      "e\n",
      "r\n",
      "n\n",
      "e\n",
      "s\n",
      "----------------------------------------------------------------------------------------------------\n",
      "Sábado\n",
      "S\n",
      "á\n",
      "b\n",
      "a\n",
      "d\n",
      "o\n",
      "----------------------------------------------------------------------------------------------------\n",
      "Domingo\n",
      "D\n",
      "o\n",
      "m\n",
      "i\n",
      "n\n",
      "g\n",
      "o\n",
      "----------------------------------------------------------------------------------------------------\n"
     ]
    }
   ],
   "source": [
    "dias_semana =  ['Lunes','Martes','Miércoles','Jueves','Viernes','Sábado','Domingo']\n",
    "\n",
    "for dias in dias_semana:\n",
    "    print(dias)\n",
    "    for letra in dias:\n",
    "        print(letra)\n",
    "    print(\"-\"*100) #Con este comando multiplico el guion por 100 veces para hacer un separador\n"
   ]
  },
  {
   "cell_type": "code",
   "execution_count": 155,
   "metadata": {},
   "outputs": [
    {
     "name": "stdout",
     "output_type": "stream",
     "text": [
      "[1, 2, 3]\n"
     ]
    }
   ],
   "source": [
    "list(range(1,4))"
   ]
  },
  {
   "cell_type": "code",
   "execution_count": 156,
   "metadata": {},
   "outputs": [
    {
     "name": "stdout",
     "output_type": "stream",
     "text": [
      "Cordenada: 1, 1\n",
      "Cordenada: 1, 2\n",
      "Cordenada: 1, 3\n",
      "Cordenada: 2, 1\n",
      "Cordenada: 2, 2\n",
      "Casilla Central\n",
      "Cordenada: 2, 3\n",
      "Cordenada: 3, 1\n",
      "Cordenada: 3, 2\n",
      "Cordenada: 3, 3\n"
     ]
    }
   ],
   "source": [
    "for i in range(1,4):\n",
    "\n",
    "    for j in range(1,4):\n",
    "        print(f'Cordenada: {i}, {j}')\n",
    "\n",
    "        if i == 2 and j == 2:\n",
    "            print('Casilla Central')\n",
    "\n",
    "    "
   ]
  },
  {
   "cell_type": "code",
   "execution_count": 168,
   "metadata": {},
   "outputs": [
    {
     "data": {
      "text/plain": [
       "3"
      ]
     },
     "execution_count": 168,
     "metadata": {},
     "output_type": "execute_result"
    }
   ],
   "source": [
    "colores = ['rojo','verde','azul']\n",
    "len(colores)\n"
   ]
  },
  {
   "cell_type": "code",
   "execution_count": 158,
   "metadata": {},
   "outputs": [
    {
     "name": "stdout",
     "output_type": "stream",
     "text": [
      "rojo\n",
      "verde\n",
      "azul\n"
     ]
    }
   ],
   "source": [
    "for color in colores:\n",
    "    print(color)"
   ]
  },
  {
   "cell_type": "code",
   "execution_count": 165,
   "metadata": {},
   "outputs": [
    {
     "data": {
      "text/plain": [
       "[0, 1, 2]"
      ]
     },
     "execution_count": 165,
     "metadata": {},
     "output_type": "execute_result"
    }
   ],
   "source": [
    "list(range(len(colores)))"
   ]
  },
  {
   "cell_type": "code",
   "execution_count": 173,
   "metadata": {},
   "outputs": [
    {
     "name": "stdout",
     "output_type": "stream",
     "text": [
      "0 rojo\n",
      "1 verde\n",
      "2 azul\n"
     ]
    }
   ],
   "source": [
    "colores = ['rojo','verde','azul']\n",
    "\n",
    "for i in range(len(colores)):\n",
    "    print(i, colores[i])"
   ]
  },
  {
   "cell_type": "code",
   "execution_count": 179,
   "metadata": {},
   "outputs": [
    {
     "name": "stdout",
     "output_type": "stream",
     "text": [
      "0\n",
      "1\n",
      "2\n",
      "3\n",
      "4\n",
      "5\n",
      "Fin de la operación\n"
     ]
    }
   ],
   "source": [
    "import time\n",
    "\n",
    "i = 0\n",
    "\n",
    "while i < 5:\n",
    "    print(i)\n",
    "    i = i+1\n",
    "\n",
    "    time.sleep(1)       # Con esta variable luego de importar la libreria time\n",
    "                        # indicamos que el tiempo de ejecución sea de 1 segundo\n",
    "\n",
    "print(i)\n",
    "print('Fin de la operación')"
   ]
  },
  {
   "cell_type": "code",
   "execution_count": 184,
   "metadata": {},
   "outputs": [
    {
     "name": "stdout",
     "output_type": "stream",
     "text": [
      "El grosor es: 2 - El Dobles es: 1\n",
      "El grosor es: 4 - El Dobles es: 2\n",
      "El grosor es: 8 - El Dobles es: 3\n",
      "El grosor es: 16 - El Dobles es: 4\n",
      "El grosor es: 32 - El Dobles es: 5\n",
      "El grosor es: 64 - El Dobles es: 6\n",
      "El grosor es: 128 - El Dobles es: 7\n",
      "El grosor es: 256 - El Dobles es: 8\n",
      "El grosor es: 512 - El Dobles es: 9\n",
      "El grosor es: 1024 - El Dobles es: 10\n",
      "El grosor es: 2048 - El Dobles es: 11\n",
      "El grosor es: 4096 - El Dobles es: 12\n",
      "El grosor es: 8192 - El Dobles es: 13\n",
      "Proceso terminado, la cantidad de veces que hemos doblado es 13 y el grosor total es de 8192\n"
     ]
    }
   ],
   "source": [
    "grosor = 1\n",
    "dobles = 0\n",
    "\n",
    "while grosor < 5000:\n",
    "    grosor = grosor * 2\n",
    "    dobles = dobles + 1\n",
    "    print(f'El grosor es: {grosor}'+ \" - \" + f'El Dobles es: {dobles}')\n",
    "    #print(f'El Dobles es: {dobles}')\n",
    "    time.sleep(1)\n",
    "\n",
    "print(f'Proceso terminado, la cantidad de veces que hemos doblado es {dobles} y el grosor total es de {grosor}')"
   ]
  },
  {
   "cell_type": "code",
   "execution_count": 187,
   "metadata": {},
   "outputs": [
    {
     "name": "stdout",
     "output_type": "stream",
     "text": [
      "1\n",
      "2\n",
      "3\n"
     ]
    }
   ],
   "source": [
    "for i in [1,2,3,4,5]:\n",
    "    print(i)\n",
    "    time.sleep(1)       # Este es un valor comodin, lo agrego para ver el proceso lento.\n",
    "    if i > 2:\n",
    "        \n",
    "        break           # Proceso que quiebra el bucle si se cumple el if\n"
   ]
  },
  {
   "cell_type": "code",
   "execution_count": 190,
   "metadata": {},
   "outputs": [
    {
     "name": "stdout",
     "output_type": "stream",
     "text": [
      "s\n",
      "t\n",
      "r\n",
      "Fín del proceso\n"
     ]
    }
   ],
   "source": [
    "for val in \"string\":\n",
    "    if val == 'i':\n",
    "        break\n",
    "\n",
    "    print(val)\n",
    "\n",
    "print('Fín del proceso')"
   ]
  },
  {
   "cell_type": "code",
   "execution_count": 191,
   "metadata": {},
   "outputs": [
    {
     "name": "stdout",
     "output_type": "stream",
     "text": [
      "s\n",
      "t\n",
      "r\n",
      "n\n",
      "g\n",
      "Fín del proceso\n"
     ]
    }
   ],
   "source": [
    "for val in \"string\":\n",
    "    if val == 'i':\n",
    "        continue\n",
    "\n",
    "    print(val)\n",
    "\n",
    "print('Fín del proceso')"
   ]
  },
  {
   "cell_type": "code",
   "execution_count": 192,
   "metadata": {},
   "outputs": [
    {
     "ename": "NameError",
     "evalue": "name 'variable_' is not defined",
     "output_type": "error",
     "traceback": [
      "\u001b[1;31m---------------------------------------------------------------------------\u001b[0m",
      "\u001b[1;31mNameError\u001b[0m                                 Traceback (most recent call last)",
      "Cell \u001b[1;32mIn[192], line 1\u001b[0m\n\u001b[1;32m----> 1\u001b[0m \u001b[38;5;28mprint\u001b[39m(\u001b[43mvariable_\u001b[49m)\n\u001b[0;32m      2\u001b[0m \u001b[38;5;28mprint\u001b[39m(\u001b[38;5;124m'\u001b[39m\u001b[38;5;124mAAA\u001b[39m\u001b[38;5;124m'\u001b[39m)\n",
      "\u001b[1;31mNameError\u001b[0m: name 'variable_' is not defined"
     ]
    }
   ],
   "source": [
    "print(variable_)\n",
    "print('AAA')"
   ]
  },
  {
   "cell_type": "code",
   "execution_count": 199,
   "metadata": {},
   "outputs": [
    {
     "name": "stdout",
     "output_type": "stream",
     "text": [
      "name 'variable_' is not defined\n",
      "Se sigue ejecutando el proceso...\n",
      "AAA\n"
     ]
    }
   ],
   "source": [
    "try:\n",
    "    print(variable_)\n",
    "except Exception as e: # El Exception es una clase que nos permite traer el error y \n",
    "                       # asignarlo a una variable para su posterior impresión o publicación. \n",
    "    print(e)\n",
    "    print('Se sigue ejecutando el proceso...')\n",
    "\n",
    "print('AAA')"
   ]
  },
  {
   "cell_type": "code",
   "execution_count": 203,
   "metadata": {},
   "outputs": [
    {
     "name": "stdout",
     "output_type": "stream",
     "text": [
      "2\n"
     ]
    }
   ],
   "source": [
    "texto = ['hola', 'hola','juan' ]\n",
    "print(texto.count('hola'))"
   ]
  },
  {
   "cell_type": "code",
   "execution_count": 210,
   "metadata": {},
   "outputs": [
    {
     "name": "stdout",
     "output_type": "stream",
     "text": [
      "1\n"
     ]
    }
   ],
   "source": [
    "months = ['enero','febrero','marzo']\n",
    "\n",
    "print(months.index('febrero'))"
   ]
  },
  {
   "cell_type": "code",
   "execution_count": 212,
   "metadata": {},
   "outputs": [
    {
     "name": "stdout",
     "output_type": "stream",
     "text": [
      "[2, 3]\n"
     ]
    }
   ],
   "source": [
    "valor = [1,2,3,4,5,6,7,8]\n",
    "\n",
    "sub_valor = valor[1:3]\n",
    "\n",
    "print(sub_valor)"
   ]
  },
  {
   "cell_type": "code",
   "execution_count": 216,
   "metadata": {},
   "outputs": [
    {
     "name": "stdout",
     "output_type": "stream",
     "text": [
      "<class 'str'>\n",
      "<class 'int'>\n"
     ]
    }
   ],
   "source": [
    "a = '3'\n",
    "\n",
    "print(type(a))\n",
    "a = int(a)\n",
    "print(type(a))"
   ]
  },
  {
   "cell_type": "code",
   "execution_count": 218,
   "metadata": {},
   "outputs": [
    {
     "data": {
      "text/plain": [
       "2"
      ]
     },
     "execution_count": 218,
     "metadata": {},
     "output_type": "execute_result"
    }
   ],
   "source": [
    "4 // 2"
   ]
  },
  {
   "cell_type": "code",
   "execution_count": 219,
   "metadata": {},
   "outputs": [
    {
     "name": "stdout",
     "output_type": "stream",
     "text": [
      "HolaMundo\n"
     ]
    }
   ],
   "source": [
    "print(\"Hola\" + \"Mundo\")"
   ]
  },
  {
   "cell_type": "code",
   "execution_count": 226,
   "metadata": {},
   "outputs": [
    {
     "name": "stdout",
     "output_type": "stream",
     "text": [
      "[1, 2, 3]\n",
      "3\n"
     ]
    }
   ],
   "source": [
    "x = [1, 2, 3]\n",
    "print(x)\n",
    "x = [1, 2, 3].pop()\n",
    "print(x)"
   ]
  },
  {
   "cell_type": "code",
   "execution_count": 228,
   "metadata": {},
   "outputs": [
    {
     "name": "stdout",
     "output_type": "stream",
     "text": [
      "[3, 2, 1]\n"
     ]
    }
   ],
   "source": [
    "mi_lista = [1,2,3]\n",
    "mi_lista.reverse()\n",
    "print(mi_lista)\n"
   ]
  },
  {
   "cell_type": "code",
   "execution_count": 232,
   "metadata": {},
   "outputs": [
    {
     "name": "stdout",
     "output_type": "stream",
     "text": [
      "La suma de los números impares entre 1 y 100 es: 2500\n"
     ]
    }
   ],
   "source": [
    "numero = list(range(1,100))\n",
    "suma_impares = 0\n",
    "\n",
    "# Usamos un bucle for para recorrer los números entre 1 y 100\n",
    "for imp in numero:\n",
    "    if imp % 2 != 0:  # Si el número es impar\n",
    "        suma_impares += imp\n",
    "\n",
    "# Imprimimos el resultado de la suma\n",
    "print(\"La suma de los números impares entre 1 y 100 es:\", suma_impares)"
   ]
  },
  {
   "cell_type": "code",
   "execution_count": null,
   "metadata": {},
   "outputs": [],
   "source": []
  }
 ],
 "metadata": {
  "kernelspec": {
   "display_name": "Python 3",
   "language": "python",
   "name": "python3"
  },
  "language_info": {
   "codemirror_mode": {
    "name": "ipython",
    "version": 3
   },
   "file_extension": ".py",
   "mimetype": "text/x-python",
   "name": "python",
   "nbconvert_exporter": "python",
   "pygments_lexer": "ipython3",
   "version": "3.12.4"
  }
 },
 "nbformat": 4,
 "nbformat_minor": 2
}
