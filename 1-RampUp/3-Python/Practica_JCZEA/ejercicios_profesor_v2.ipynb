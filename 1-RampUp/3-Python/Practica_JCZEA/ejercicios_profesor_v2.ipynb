{
 "cells": [
  {
   "cell_type": "markdown",
   "metadata": {},
   "source": [
    "Este código lo hicimos Dios y yo y lo mas seguro es que a mi se me olvide..\n",
    "\n",
    "Así que solo Dios sabrá.\n",
    "\n",
    "Este código funciona de milagro se han invertido __horas, si lo tocas para mejorarlo suma las horas invertidas, pero recuerda los principios\n",
    "básicos de la programación.\n",
    "\n",
    "- Sí funciona no lo toques\n",
    "\n",
    "- Sí funcionaba y ahora no reinicia todo y vuelve a probar\n",
    "\n",
    "- Sí lo anterior no funcionó reza para que se arregle solo\n",
    "\n",
    "PD: En mi local funciona no es una respuesta valida\n",
    "----------------"
   ]
  },
  {
   "cell_type": "markdown",
   "metadata": {},
   "source": [
    "1. Escribir un programa que pregunte al usuario su edad y muestre por pantalla si es mayor de edad o no."
   ]
  },
  {
   "cell_type": "code",
   "execution_count": 3,
   "metadata": {},
   "outputs": [
    {
     "name": "stdout",
     "output_type": "stream",
     "text": [
      "Es mayor de edad\n"
     ]
    }
   ],
   "source": [
    "edad = int(input('Ingresar tu edad: '))\n",
    "\n",
    "if edad >= 18:\n",
    "    print('Es mayor de edad')\n",
    "else:\n",
    "    print('Es menor de edad')"
   ]
  },
  {
   "cell_type": "markdown",
   "metadata": {},
   "source": [
    "2. Escribir un programa que pida al usuario un número entero y muestre por pantalla si es par o impar."
   ]
  },
  {
   "cell_type": "code",
   "execution_count": 7,
   "metadata": {},
   "outputs": [
    {
     "name": "stdout",
     "output_type": "stream",
     "text": [
      "el 3 es impar\n"
     ]
    }
   ],
   "source": [
    "numero = int(input('Ingresar un número entero: '))\n",
    "\n",
    "if numero >0:\n",
    "    if numero % 2 == 0:\n",
    "        print(f'el {numero} es par')\n",
    "    else:\n",
    "        print(f'el {numero} es impar')\n",
    "else:\n",
    "    print('El valor ingresado no es entero')"
   ]
  },
  {
   "cell_type": "markdown",
   "metadata": {},
   "source": [
    "3. \n",
    "```\n",
    "*\n",
    "**\n",
    "***\n",
    "****\n",
    "*****"
   ]
  },
  {
   "cell_type": "markdown",
   "metadata": {},
   "source": [
    "````\n",
    "*\n",
    "**\n",
    "***\n",
    "****\n",
    "*****"
   ]
  },
  {
   "cell_type": "markdown",
   "metadata": {},
   "source": [
    "4. Escribir un programa que pida al usuario una palabra y luego muestre por pantalla una a una las letras de la palabra introducida empezando por la última."
   ]
  },
  {
   "cell_type": "code",
   "execution_count": null,
   "metadata": {},
   "outputs": [],
   "source": [
    "texto = str(input('Ingresar un texto: '))\n",
    "\n"
   ]
  },
  {
   "cell_type": "markdown",
   "metadata": {},
   "source": [
    "5. Escribir un programa que almacene el abecedario en una lista, elimine de la lista las letras que ocupen posiciones múltiplos de 3, y muestre por pantalla la lista resultante."
   ]
  },
  {
   "cell_type": "code",
   "execution_count": null,
   "metadata": {},
   "outputs": [],
   "source": []
  },
  {
   "cell_type": "markdown",
   "metadata": {},
   "source": [
    "6. Escribir un programa que guarde en un diccionario los precios de las frutas de la tabla, pregunte al usuario por una fruta, un número de kilos y muestre por pantalla el precio de ese número de kilos de fruta. Si la fruta no está en el diccionario debe mostrar un mensaje informando de ello."
   ]
  },
  {
   "cell_type": "code",
   "execution_count": null,
   "metadata": {},
   "outputs": [],
   "source": []
  },
  {
   "cell_type": "code",
   "execution_count": null,
   "metadata": {},
   "outputs": [],
   "source": []
  },
  {
   "cell_type": "markdown",
   "metadata": {},
   "source": [
    "7. Escribir una función que reciba una muestra de números en una lista y devuelva su media y mediana."
   ]
  },
  {
   "cell_type": "code",
   "execution_count": null,
   "metadata": {},
   "outputs": [],
   "source": []
  },
  {
   "cell_type": "markdown",
   "metadata": {},
   "source": [
    "8. crear un programa que sin utilizar if-else si le pasas la variable XX te devuelva el pais. ejemplo: ES->España, us:Estados Unidos"
   ]
  },
  {
   "cell_type": "code",
   "execution_count": null,
   "metadata": {},
   "outputs": [],
   "source": [
    "\n"
   ]
  },
  {
   "cell_type": "markdown",
   "metadata": {},
   "source": [
    "9. Nuria es fitness entonces tiene un itinerario para el gym\n",
    "\n",
    "- lunes =  piernas\n",
    "- martes = brazos\n",
    "- miercoles = abdomen\n",
    "- jueves = cardio\n",
    "- viernes = cerveza\n",
    "- sabado = pizza\n",
    "- domingo = descansa\n",
    "\n",
    "vamos hacer un programa que dependiendo del dia le diga que tiene que hacer.\n",
    "\n",
    "pero resulta que Juan ahora es IFfobico y GETfobico..\n",
    "\n",
    "puedes ayudar a ambos??"
   ]
  },
  {
   "cell_type": "code",
   "execution_count": null,
   "metadata": {},
   "outputs": [],
   "source": []
  },
  {
   "cell_type": "code",
   "execution_count": null,
   "metadata": {},
   "outputs": [],
   "source": []
  },
  {
   "cell_type": "code",
   "execution_count": null,
   "metadata": {},
   "outputs": [],
   "source": []
  },
  {
   "cell_type": "markdown",
   "metadata": {},
   "source": [
    "10. Imprimir los primeros 10 números naturales\n",
    "\n",
    "    Escribe un programa que imprima los números del 1 al 10 utilizando un bucle for.\n"
   ]
  },
  {
   "cell_type": "code",
   "execution_count": null,
   "metadata": {},
   "outputs": [],
   "source": []
  },
  {
   "cell_type": "markdown",
   "metadata": {},
   "source": [
    "11. Suma de dos números\n",
    "\n",
    "    Escribe un programa que solicite al usuario dos números y muestre la suma de ellos.\n"
   ]
  },
  {
   "cell_type": "code",
   "execution_count": null,
   "metadata": {},
   "outputs": [],
   "source": []
  },
  {
   "cell_type": "markdown",
   "metadata": {},
   "source": [
    "12. Identificar números pares e impares\n",
    "\n",
    "    Escribe un programa que pida un número al usuario e indique si es par o impar.\n"
   ]
  },
  {
   "cell_type": "markdown",
   "metadata": {},
   "source": [
    "13. Reverso de una cadena\n",
    "\n",
    "    Escribe un programa que pida al usuario una cadena y la imprima al revés.\n"
   ]
  },
  {
   "cell_type": "code",
   "execution_count": 12,
   "metadata": {},
   "outputs": [
    {
     "name": "stdout",
     "output_type": "stream",
     "text": [
      "reivaj a acot el"
     ]
    }
   ],
   "source": []
  },
  {
   "cell_type": "markdown",
   "metadata": {},
   "source": [
    "14. Comprobar si un número es positivo, negativo o cero\n",
    "\n",
    "    Escribe un programa que solicite un número y muestre si es positivo, negativo o cero.\n"
   ]
  },
  {
   "cell_type": "code",
   "execution_count": 16,
   "metadata": {},
   "outputs": [
    {
     "name": "stdout",
     "output_type": "stream",
     "text": [
      "El número es cero\n"
     ]
    }
   ],
   "source": []
  },
  {
   "cell_type": "markdown",
   "metadata": {},
   "source": [
    "15. Suma de elementos de una lista\n",
    "\n",
    "    Escribe un programa que tome una lista de números y devuelva la suma de todos los elementos de la lista.\n"
   ]
  },
  {
   "cell_type": "code",
   "execution_count": 18,
   "metadata": {},
   "outputs": [
    {
     "data": {
      "text/plain": [
       "6"
      ]
     },
     "execution_count": 18,
     "metadata": {},
     "output_type": "execute_result"
    }
   ],
   "source": []
  },
  {
   "cell_type": "markdown",
   "metadata": {},
   "source": [
    "16. Conteo de vocales en una cadena\n",
    "\n",
    "    Escribe un programa que tome una cadena de entrada y cuente cuántas vocales (a, e, i, o, u) contiene.\n"
   ]
  },
  {
   "cell_type": "code",
   "execution_count": 19,
   "metadata": {},
   "outputs": [
    {
     "data": {
      "text/plain": [
       "12"
      ]
     },
     "execution_count": 19,
     "metadata": {},
     "output_type": "execute_result"
    }
   ],
   "source": [
    "def contar_vocales(c:str):\n",
    "    contador = 0\n",
    "    for letra in c.lower():\n",
    "        if 'a' in c:\n",
    "            contador += 1\n",
    "        elif 'e' in c:\n",
    "            contador += 1\n",
    "        elif 'i' in c:\n",
    "            contador += 1\n",
    "        elif 'o' in c:\n",
    "            contador += 1\n",
    "        elif 'u' in c:\n",
    "            contador += 1\n",
    "    return contador\n",
    "\n",
    "contar_vocales('Hola, mundo!')"
   ]
  },
  {
   "cell_type": "code",
   "execution_count": 22,
   "metadata": {},
   "outputs": [
    {
     "data": {
      "text/plain": [
       "6"
      ]
     },
     "execution_count": 22,
     "metadata": {},
     "output_type": "execute_result"
    }
   ],
   "source": [
    "def contar_vocales(c:str):\n",
    "    contador = 0\n",
    "    for letra in c.lower():\n",
    "        if letra in 'aeiou':\n",
    "            contador += 1\n",
    "    return contador\n",
    "\n",
    "contar_vocales('Hola, mundo!, Abdon')"
   ]
  },
  {
   "cell_type": "code",
   "execution_count": 23,
   "metadata": {},
   "outputs": [
    {
     "data": {
      "text/plain": [
       "4"
      ]
     },
     "execution_count": 23,
     "metadata": {},
     "output_type": "execute_result"
    }
   ],
   "source": [
    "def contar_vocales(c:str):\n",
    "    contador = 0\n",
    "    for letra in c.lower():\n",
    "        if letra == 'a' or letra == 'e' or letra == 'i' or \\\n",
    "        letra == 'o' or letra == 'u':\n",
    "            contador += 1\n",
    "    return contador\n",
    "\n",
    "contar_vocales('Hola, mundo!')"
   ]
  },
  {
   "cell_type": "markdown",
   "metadata": {},
   "source": [
    "17. Calcular el factorial de un número\n",
    "\n",
    "    Escribe una función que reciba un número entero como argumento y devuelva su factorial utilizando recursión.\n"
   ]
  },
  {
   "cell_type": "code",
   "execution_count": 4,
   "metadata": {},
   "outputs": [
    {
     "data": {
      "text/plain": [
       "120"
      ]
     },
     "execution_count": 4,
     "metadata": {},
     "output_type": "execute_result"
    }
   ],
   "source": [
    "def factorial(num:int)->int:\n",
    "    if num == 1:\n",
    "        return 1\n",
    "    else:\n",
    "        return num * factorial(num-1)\n",
    "\n",
    "factorial(5)"
   ]
  },
  {
   "cell_type": "markdown",
   "metadata": {},
   "source": [
    "18. Crear un generador de contraseñas aleatorias\n",
    "    \n",
    "    Escribe un programa que genere contraseñas aleatorias de longitud variable. Las contraseñas deben incluir letras mayúsculas, minúsculas, números y símbolos especiales.\n"
   ]
  },
  {
   "cell_type": "code",
   "execution_count": 14,
   "metadata": {},
   "outputs": [
    {
     "data": {
      "text/plain": [
       "'abcdefghijklmnopqrstuvwxyzABCDEFGHIJKLMNOPQRSTUVWXYZ'"
      ]
     },
     "execution_count": 14,
     "metadata": {},
     "output_type": "execute_result"
    }
   ],
   "source": [
    "import string\n",
    "string.ascii_letters"
   ]
  },
  {
   "cell_type": "code",
   "execution_count": 15,
   "metadata": {},
   "outputs": [
    {
     "data": {
      "text/plain": [
       "'0123456789'"
      ]
     },
     "execution_count": 15,
     "metadata": {},
     "output_type": "execute_result"
    }
   ],
   "source": [
    "string.digits"
   ]
  },
  {
   "cell_type": "code",
   "execution_count": 44,
   "metadata": {},
   "outputs": [
    {
     "data": {
      "text/plain": [
       "'ab'"
      ]
     },
     "execution_count": 44,
     "metadata": {},
     "output_type": "execute_result"
    }
   ],
   "source": [
    "'a'+'b'"
   ]
  },
  {
   "cell_type": "code",
   "execution_count": 16,
   "metadata": {},
   "outputs": [
    {
     "data": {
      "text/plain": [
       "'!\"#$%&\\'()*+,-./:;<=>?@[\\\\]^_`{|}~'"
      ]
     },
     "execution_count": 16,
     "metadata": {},
     "output_type": "execute_result"
    }
   ],
   "source": [
    "string.punctuation"
   ]
  },
  {
   "cell_type": "code",
   "execution_count": 8,
   "metadata": {},
   "outputs": [],
   "source": [
    "var = '---'"
   ]
  },
  {
   "cell_type": "code",
   "execution_count": 9,
   "metadata": {},
   "outputs": [
    {
     "data": {
      "text/plain": [
       "'p---e---r---r---o'"
      ]
     },
     "execution_count": 9,
     "metadata": {},
     "output_type": "execute_result"
    }
   ],
   "source": [
    "var.join('perro')"
   ]
  },
  {
   "cell_type": "code",
   "execution_count": 59,
   "metadata": {},
   "outputs": [],
   "source": [
    "import string\n",
    "import random\n",
    "\n",
    "def generar_contrasena()->str:\n",
    "    caracteres = string.ascii_letters + string.digits + string.punctuation\n",
    "    contrasenha = ''.join(random.choice(caracteres) for _ in range(random.randint(8,16)))\n",
    "    return contrasenha"
   ]
  },
  {
   "cell_type": "code",
   "execution_count": 39,
   "metadata": {},
   "outputs": [],
   "source": [
    "def generar_contrasena_user(longitud:int)->str:\n",
    "    caracteres = string.ascii_letters + string.digits + string.punctuation\n",
    "    contrasenha = ''.join(random.choice(caracteres) for _ in range(longitud))\n",
    "    return contrasenha"
   ]
  },
  {
   "cell_type": "markdown",
   "metadata": {},
   "source": [
    "19. Crear una baraja de póker\n",
    "\n",
    "    Escribe un programa que cree una baraja de cartas de póker (52 cartas). Cada carta debe tener un palo (corazones, diamantes, tréboles, picas) y un valor (del 2 al 10, J, Q, K, A). Luego, simula mezclar la baraja y reparte 5 cartas al azar a un \"jugador\"."
   ]
  },
  {
   "cell_type": "code",
   "execution_count": 68,
   "metadata": {},
   "outputs": [
    {
     "data": {
      "text/plain": [
       "['3♥', '9♠', '4♠', '4♣', '10♣']"
      ]
     },
     "execution_count": 68,
     "metadata": {},
     "output_type": "execute_result"
    }
   ],
   "source": [
    "numeros = ['A','2','3','4','5','6','7','8','9','10','J','Q','K']\n",
    "palos = ['♥','♦','♣','♠'] \n",
    "\n",
    "baraja = []\n",
    "for numero in numeros:\n",
    "    for palo in palos:\n",
    "        baraja.append(f'{numero}{palo}')\n",
    "\n",
    "random.sample(baraja,5)     \n"
   ]
  },
  {
   "cell_type": "code",
   "execution_count": 69,
   "metadata": {},
   "outputs": [
    {
     "data": {
      "text/plain": [
       "['A♥',\n",
       " 'A♦',\n",
       " 'A♣',\n",
       " 'A♠',\n",
       " '2♥',\n",
       " '2♦',\n",
       " '2♣',\n",
       " '2♠',\n",
       " '3♥',\n",
       " '3♦',\n",
       " '3♣',\n",
       " '3♠',\n",
       " '4♥',\n",
       " '4♦',\n",
       " '4♣',\n",
       " '4♠',\n",
       " '5♥',\n",
       " '5♦',\n",
       " '5♣',\n",
       " '5♠',\n",
       " '6♥',\n",
       " '6♦',\n",
       " '6♣',\n",
       " '6♠',\n",
       " '7♥',\n",
       " '7♦',\n",
       " '7♣',\n",
       " '7♠',\n",
       " '8♥',\n",
       " '8♦',\n",
       " '8♣',\n",
       " '8♠',\n",
       " '9♥',\n",
       " '9♦',\n",
       " '9♣',\n",
       " '9♠',\n",
       " '10♥',\n",
       " '10♦',\n",
       " '10♣',\n",
       " '10♠',\n",
       " 'J♥',\n",
       " 'J♦',\n",
       " 'J♣',\n",
       " 'J♠',\n",
       " 'Q♥',\n",
       " 'Q♦',\n",
       " 'Q♣',\n",
       " 'Q♠',\n",
       " 'K♥',\n",
       " 'K♦',\n",
       " 'K♣',\n",
       " 'K♠']"
      ]
     },
     "execution_count": 69,
     "metadata": {},
     "output_type": "execute_result"
    }
   ],
   "source": [
    "baraja = [numero+palo for numero in numeros for palo in palos]\n",
    "baraja"
   ]
  },
  {
   "cell_type": "markdown",
   "metadata": {},
   "source": [
    "20. crear una funcion que al pasarle un texto debe retornar un diccionario con las letras y sus cantidades"
   ]
  },
  {
   "cell_type": "code",
   "execution_count": 80,
   "metadata": {},
   "outputs": [
    {
     "data": {
      "text/plain": [
       "{'h': 4, 'o': 2, 'l': 1, 'a': 1, 'm': 1, 'u': 1, 'n': 1, 'd': 1}"
      ]
     },
     "execution_count": 80,
     "metadata": {},
     "output_type": "execute_result"
    }
   ],
   "source": [
    "def contar_letras(texto:str) -> dict:\n",
    "    diccionario = {}\n",
    "    for letra in texto.lower():\n",
    "        if letra.isalpha():\n",
    "            if letra in diccionario:\n",
    "                diccionario[letra] += 1\n",
    "            else:\n",
    "                diccionario[letra] = 1\n",
    "    return diccionario\n",
    "\n",
    "contar_letras('Hola, mundo!hhh')"
   ]
  },
  {
   "cell_type": "markdown",
   "metadata": {},
   "source": [
    "21. crea un juego de adivina el numero"
   ]
  },
  {
   "cell_type": "code",
   "execution_count": 82,
   "metadata": {},
   "outputs": [
    {
     "name": "stdout",
     "output_type": "stream",
     "text": [
      "Tienes 5 intentos.\n",
      "El número es más grande.\n",
      "El número es más grande.\n",
      "El número es más grande.\n",
      "El número es más grande.\n",
      "��Ganaste!\n",
      "Tienes 4 intentos.\n",
      "��Ganaste!\n",
      "Tienes 3 intentos.\n"
     ]
    },
    {
     "ename": "KeyboardInterrupt",
     "evalue": "Interrupted by user",
     "output_type": "error",
     "traceback": [
      "\u001b[1;31m---------------------------------------------------------------------------\u001b[0m",
      "\u001b[1;31mKeyboardInterrupt\u001b[0m                         Traceback (most recent call last)",
      "Cell \u001b[1;32mIn[82], line 7\u001b[0m\n\u001b[0;32m      5\u001b[0m \u001b[38;5;28mprint\u001b[39m(\u001b[38;5;124mf\u001b[39m\u001b[38;5;124m'\u001b[39m\u001b[38;5;124mTienes \u001b[39m\u001b[38;5;132;01m{\u001b[39;00mintentos\u001b[38;5;132;01m}\u001b[39;00m\u001b[38;5;124m intentos.\u001b[39m\u001b[38;5;124m'\u001b[39m)\n\u001b[0;32m      6\u001b[0m \u001b[38;5;28;01mfor\u001b[39;00m i \u001b[38;5;129;01min\u001b[39;00m \u001b[38;5;28mrange\u001b[39m(intentos):\n\u001b[1;32m----> 7\u001b[0m     intento \u001b[38;5;241m=\u001b[39m \u001b[38;5;28mint\u001b[39m(\u001b[38;5;28;43minput\u001b[39;49m\u001b[43m(\u001b[49m\u001b[38;5;124;43m'\u001b[39;49m\u001b[38;5;124;43mAdivina el número: \u001b[39;49m\u001b[38;5;124;43m'\u001b[39;49m\u001b[43m)\u001b[49m)\n\u001b[0;32m      8\u001b[0m     \u001b[38;5;28;01mif\u001b[39;00m intento \u001b[38;5;241m==\u001b[39m numero_secreto:\n\u001b[0;32m      9\u001b[0m         \u001b[38;5;28mprint\u001b[39m(\u001b[38;5;124m'\u001b[39m\u001b[38;5;124m��Ganaste!\u001b[39m\u001b[38;5;124m'\u001b[39m)\n",
      "File \u001b[1;32mc:\\Users\\jamr1\\.pyenv\\pyenv-win\\versions\\3.11.9\\Lib\\site-packages\\ipykernel\\kernelbase.py:1282\u001b[0m, in \u001b[0;36mKernel.raw_input\u001b[1;34m(self, prompt)\u001b[0m\n\u001b[0;32m   1280\u001b[0m     msg \u001b[38;5;241m=\u001b[39m \u001b[38;5;124m\"\u001b[39m\u001b[38;5;124mraw_input was called, but this frontend does not support input requests.\u001b[39m\u001b[38;5;124m\"\u001b[39m\n\u001b[0;32m   1281\u001b[0m     \u001b[38;5;28;01mraise\u001b[39;00m StdinNotImplementedError(msg)\n\u001b[1;32m-> 1282\u001b[0m \u001b[38;5;28;01mreturn\u001b[39;00m \u001b[38;5;28;43mself\u001b[39;49m\u001b[38;5;241;43m.\u001b[39;49m\u001b[43m_input_request\u001b[49m\u001b[43m(\u001b[49m\n\u001b[0;32m   1283\u001b[0m \u001b[43m    \u001b[49m\u001b[38;5;28;43mstr\u001b[39;49m\u001b[43m(\u001b[49m\u001b[43mprompt\u001b[49m\u001b[43m)\u001b[49m\u001b[43m,\u001b[49m\n\u001b[0;32m   1284\u001b[0m \u001b[43m    \u001b[49m\u001b[38;5;28;43mself\u001b[39;49m\u001b[38;5;241;43m.\u001b[39;49m\u001b[43m_parent_ident\u001b[49m\u001b[43m[\u001b[49m\u001b[38;5;124;43m\"\u001b[39;49m\u001b[38;5;124;43mshell\u001b[39;49m\u001b[38;5;124;43m\"\u001b[39;49m\u001b[43m]\u001b[49m\u001b[43m,\u001b[49m\n\u001b[0;32m   1285\u001b[0m \u001b[43m    \u001b[49m\u001b[38;5;28;43mself\u001b[39;49m\u001b[38;5;241;43m.\u001b[39;49m\u001b[43mget_parent\u001b[49m\u001b[43m(\u001b[49m\u001b[38;5;124;43m\"\u001b[39;49m\u001b[38;5;124;43mshell\u001b[39;49m\u001b[38;5;124;43m\"\u001b[39;49m\u001b[43m)\u001b[49m\u001b[43m,\u001b[49m\n\u001b[0;32m   1286\u001b[0m \u001b[43m    \u001b[49m\u001b[43mpassword\u001b[49m\u001b[38;5;241;43m=\u001b[39;49m\u001b[38;5;28;43;01mFalse\u001b[39;49;00m\u001b[43m,\u001b[49m\n\u001b[0;32m   1287\u001b[0m \u001b[43m\u001b[49m\u001b[43m)\u001b[49m\n",
      "File \u001b[1;32mc:\\Users\\jamr1\\.pyenv\\pyenv-win\\versions\\3.11.9\\Lib\\site-packages\\ipykernel\\kernelbase.py:1325\u001b[0m, in \u001b[0;36mKernel._input_request\u001b[1;34m(self, prompt, ident, parent, password)\u001b[0m\n\u001b[0;32m   1322\u001b[0m \u001b[38;5;28;01mexcept\u001b[39;00m \u001b[38;5;167;01mKeyboardInterrupt\u001b[39;00m:\n\u001b[0;32m   1323\u001b[0m     \u001b[38;5;66;03m# re-raise KeyboardInterrupt, to truncate traceback\u001b[39;00m\n\u001b[0;32m   1324\u001b[0m     msg \u001b[38;5;241m=\u001b[39m \u001b[38;5;124m\"\u001b[39m\u001b[38;5;124mInterrupted by user\u001b[39m\u001b[38;5;124m\"\u001b[39m\n\u001b[1;32m-> 1325\u001b[0m     \u001b[38;5;28;01mraise\u001b[39;00m \u001b[38;5;167;01mKeyboardInterrupt\u001b[39;00m(msg) \u001b[38;5;28;01mfrom\u001b[39;00m \u001b[38;5;28;01mNone\u001b[39;00m\n\u001b[0;32m   1326\u001b[0m \u001b[38;5;28;01mexcept\u001b[39;00m \u001b[38;5;167;01mException\u001b[39;00m:\n\u001b[0;32m   1327\u001b[0m     \u001b[38;5;28mself\u001b[39m\u001b[38;5;241m.\u001b[39mlog\u001b[38;5;241m.\u001b[39mwarning(\u001b[38;5;124m\"\u001b[39m\u001b[38;5;124mInvalid Message:\u001b[39m\u001b[38;5;124m\"\u001b[39m, exc_info\u001b[38;5;241m=\u001b[39m\u001b[38;5;28;01mTrue\u001b[39;00m)\n",
      "\u001b[1;31mKeyboardInterrupt\u001b[0m: Interrupted by user"
     ]
    }
   ],
   "source": [
    "intentos = 5\n",
    "\n",
    "while True:\n",
    "    numero_secreto = random.randint(1, 20)\n",
    "    print(f'Tienes {intentos} intentos.')\n",
    "    for i in range(intentos):\n",
    "        intento = int(input('Adivina el número: '))\n",
    "        if intento == numero_secreto:\n",
    "            print('��Ganaste!')\n",
    "            break\n",
    "        elif intento < numero_secreto:\n",
    "            print('El número es más grande.')\n",
    "        else:\n",
    "            print('El número es más pequeño.')\n",
    "    else:\n",
    "        print(f'Perdiste, el número era {numero_secreto}.')\n",
    "        break\n",
    "    intentos -= 1"
   ]
  },
  {
   "cell_type": "markdown",
   "metadata": {},
   "source": [
    "22. crea una funcion que solicite una lista y te devuelva el numero de elementos por cada tipo dato"
   ]
  },
  {
   "cell_type": "code",
   "execution_count": 83,
   "metadata": {},
   "outputs": [
    {
     "data": {
      "text/plain": [
       "{int: 3, str: 2, bool: 0, list: 1, NoneType: 1}"
      ]
     },
     "execution_count": 83,
     "metadata": {},
     "output_type": "execute_result"
    }
   ],
   "source": [
    "lista = [1,2,'a','b',None,True,[],()]\n",
    "\n",
    "def contar_tipos(lista: list) -> dict:\n",
    "    tipo_datos = {\n",
    "        int: 0,\n",
    "        str: 0,\n",
    "        bool: 0,\n",
    "        list: 0,\n",
    "        type(None): 0\n",
    "    }\n",
    "    for elemento in lista:\n",
    "        if isinstance(elemento, int):\n",
    "            tipo_datos[int] += 1\n",
    "        elif isinstance(elemento, str):\n",
    "            tipo_datos[str] += 1\n",
    "        elif isinstance(elemento, bool):\n",
    "            tipo_datos[bool] += 1\n",
    "        elif isinstance(elemento, list):\n",
    "            tipo_datos[list] += 1\n",
    "        elif elemento is None:\n",
    "            tipo_datos[type(None)] += 1\n",
    "    return tipo_datos\n",
    "\n",
    "contar_tipos(lista)"
   ]
  },
  {
   "cell_type": "code",
   "execution_count": 17,
   "metadata": {},
   "outputs": [
    {
     "name": "stdout",
     "output_type": "stream",
     "text": [
      "hola\n"
     ]
    }
   ],
   "source": [
    "print('hola')"
   ]
  },
  {
   "cell_type": "markdown",
   "metadata": {},
   "source": [
    "23. Hola, mundo!"
   ]
  },
  {
   "cell_type": "code",
   "execution_count": 24,
   "metadata": {},
   "outputs": [
    {
     "name": "stdout",
     "output_type": "stream",
     "text": [
      "Hola, mundo!\n"
     ]
    }
   ],
   "source": [
    "lista = [['hola','Hola','mundo'],([['Hola,']]),{'exclamacion':'!'}]\n",
    "\n",
    "print(lista[1][0][0],lista[0][2]+lista[-1]['exclamacion'])"
   ]
  },
  {
   "cell_type": "code",
   "execution_count": 27,
   "metadata": {},
   "outputs": [],
   "source": [
    "frase = 'todos los estudiantes quieren a Isa'\n",
    "lista = [('hola','como','estas','Isa') , [[('todos'),200,'a'],{'valor':'estudiantes'},[[[[('los','quieren')]]]]]]"
   ]
  },
  {
   "cell_type": "code",
   "execution_count": 52,
   "metadata": {},
   "outputs": [
    {
     "name": "stdout",
     "output_type": "stream",
     "text": [
      "todos los estudiantes quieren a Isa\n"
     ]
    }
   ],
   "source": [
    "print(lista[1][0][0],lista[1][2][0][0][0][0][0],lista[1][1]['valor'],lista[1][2][0][0][0][0][1],lista[1][0][2],lista[0][3])"
   ]
  },
  {
   "cell_type": "markdown",
   "metadata": {},
   "source": [
    "24. crear una funcion que tenga de parametro un texto (nombre) y que devuelva si el nombre es par o impar, si es par que imprima un mensaje que sea\n",
    "`Juan te odiamos` y si es impar `Ronal es lo maximo` si no es par o impar o negativo o es igual a la raiz de 9 o sus multiplos `Isa y Nuria suspenden el examen y yo no`"
   ]
  },
  {
   "cell_type": "markdown",
   "metadata": {},
   "source": [
    "25. vamos a crear el juego blind... el juego es simple no se puede decir 7 ni numeros multiplos de 7 ni numeros que lleven 7 ni numeros iguales como (11,22,33...) la idea es poner un contador de tiempo para que el usuario vaya insertando los numeros correctos y si se equivoca pierde y se se agota el tiempo pierde el tiempo maximo es de 5 segundos y al llegar a la ronda llega a multiplo de 10 se divida el tiempo"
   ]
  },
  {
   "cell_type": "code",
   "execution_count": null,
   "metadata": {},
   "outputs": [],
   "source": []
  }
 ],
 "metadata": {
  "kernelspec": {
   "display_name": "Python 3",
   "language": "python",
   "name": "python3"
  },
  "language_info": {
   "codemirror_mode": {
    "name": "ipython",
    "version": 3
   },
   "file_extension": ".py",
   "mimetype": "text/x-python",
   "name": "python",
   "nbconvert_exporter": "python",
   "pygments_lexer": "ipython3",
   "version": "3.12.4"
  }
 },
 "nbformat": 4,
 "nbformat_minor": 2
}
