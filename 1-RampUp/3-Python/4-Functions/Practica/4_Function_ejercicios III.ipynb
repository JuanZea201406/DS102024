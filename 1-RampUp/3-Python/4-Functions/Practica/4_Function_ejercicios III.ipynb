{
  "cells": [
    {
      "cell_type": "markdown",
      "metadata": {
        "id": "WxAL6VsU2Wuo"
      },
      "source": [
        "# Ejercicios III"
      ]
    },
    {
      "cell_type": "markdown",
      "metadata": {
        "id": "y4fgNZK42Wuq"
      },
      "source": [
        "## Factoriales\n",
        "\n",
        "El factorial de un número natural es la multiplicación de todos los números anteriores hasta llegar a 1. Por ejemplo el factorial de 5 es igual a $5* 4* 3* 2* 1$, es decir, 120.\n",
        "\n",
        "Igual que con la serie Fibonacci, hay dos formas de resolver este problema: una con un loop for y la otra utilizando funciones recursivas.  Recuerden que cada función recursiva tiene que tener una condición terminal.\n",
        "En el caso de Fibonacci, la condición terminal es que fibo(1) = 1. \n",
        "\n",
        "En el caso de factorial, la condición terminal será factorial(1) = 1 \n",
        "\n",
        "Escriban ahora las dos versiones posibles de la función factorial(x). "
      ]
    },
    {
      "cell_type": "code",
      "execution_count": 3,
      "metadata": {
        "id": "AI0nQ8vL2Wux"
      },
      "outputs": [],
      "source": [
        "# Solución recursiva. \n",
        "def f_recursivo(x):\n",
        "    if x == 1:\n",
        "        return 1\n",
        "    else:\n",
        "        return x * f_recursivo(x - 1)"
      ]
    },
    {
      "cell_type": "code",
      "execution_count": 2,
      "metadata": {
        "id": "WsRV3pZU2Wu3"
      },
      "outputs": [],
      "source": [
        "# Solución iterativa. \n",
        "def f_iterativo(x):\n",
        "    resultado = 1\n",
        "    for i in range(1, x + 1):\n",
        "        resultado *= i\n",
        "    return resultado"
      ]
    },
    {
      "cell_type": "markdown",
      "metadata": {
        "id": "_RnUbcaR2Wu4"
      },
      "source": [
        "Ahora construyan un módulo que se llame \"operaciones\" con cualquiera de las dos versiones de la función y luego invoquen a la función factorial del módulo."
      ]
    },
    {
      "cell_type": "code",
      "execution_count": 4,
      "metadata": {
        "id": "amURxY7Q2Wu5"
      },
      "outputs": [],
      "source": [
        "# Escriban el archivo operaciones.py\n",
        "def factorial(x):\n",
        "    resultado = 1\n",
        "    for i in range(1, x + 1):\n",
        "        resultado *= i\n",
        "    return resultado"
      ]
    },
    {
      "cell_type": "code",
      "execution_count": 12,
      "metadata": {
        "id": "MjA4BPw92Wu6"
      },
      "outputs": [],
      "source": [
        "# Importen operaciones\n",
        "import operaciones"
      ]
    },
    {
      "cell_type": "code",
      "execution_count": 13,
      "metadata": {
        "id": "ltadgg2C2Wu9"
      },
      "outputs": [
        {
          "name": "stdout",
          "output_type": "stream",
          "text": [
            "El Factorial de 5 es : 120\n"
          ]
        }
      ],
      "source": [
        "# Invoquen con cualquier valor a operaciones.factorial()\n",
        "\n",
        "numero = int(input(\"Ingrese un número: \"))\n",
        "\n",
        "resultado = operaciones.factorial(numero)\n",
        "\n",
        "print(f\"El Factorial de {numero} es : {resultado}\")"
      ]
    },
    {
      "cell_type": "markdown",
      "metadata": {
        "id": "uyHeMHAwJ1Ro"
      },
      "source": [
        "Módulos de búsqueda. Ahora crea un paquete (carpeta con varios módulos) donde haya al menos dos algorítmos de búsqueda vistos que funcionen sobre listas de número. \n",
        "Extra: que la busqueda permita diccionarios"
      ]
    },
    {
      "cell_type": "code",
      "execution_count": null,
      "metadata": {
        "id": "XRBF8JHLKFvS"
      },
      "outputs": [],
      "source": []
    }
  ],
  "metadata": {
    "colab": {
      "name": "ejercicio.ipynb",
      "provenance": []
    },
    "kernelspec": {
      "display_name": "Python 3",
      "language": "python",
      "name": "python3"
    },
    "language_info": {
      "codemirror_mode": {
        "name": "ipython",
        "version": 3
      },
      "file_extension": ".py",
      "mimetype": "text/x-python",
      "name": "python",
      "nbconvert_exporter": "python",
      "pygments_lexer": "ipython3",
      "version": "3.12.4"
    }
  },
  "nbformat": 4,
  "nbformat_minor": 0
}
